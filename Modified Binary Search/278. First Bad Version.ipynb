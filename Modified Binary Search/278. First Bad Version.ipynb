{
 "cells": [
  {
   "cell_type": "code",
   "execution_count": 1,
   "id": "f5b477d5",
   "metadata": {},
   "outputs": [
    {
     "data": {
      "text/plain": [
       "'\\nExample 1:\\nInput: n = 5, bad = 4\\nOutput: 4\\n\\nExample 2:\\nInput: n = 1, bad = 1\\nOutput: 1 '"
      ]
     },
     "execution_count": 1,
     "metadata": {},
     "output_type": "execute_result"
    }
   ],
   "source": [
    "# https://leetcode.com/problems/first-bad-version/description/\n",
    "'''\n",
    "Example 1:\n",
    "Input: n = 5, bad = 4\n",
    "Output: 4\n",
    "\n",
    "Example 2:\n",
    "Input: n = 1, bad = 1\n",
    "Output: 1 '''"
   ]
  },
  {
   "cell_type": "code",
   "execution_count": 2,
   "id": "591949ed",
   "metadata": {},
   "outputs": [],
   "source": [
    "# Brute Force - Linear Approach\n",
    "\n",
    "def first_bad_version(n):\n",
    "    for version in range(1, n + 1):\n",
    "        if is_bad_version(version):\n",
    "            return version\n",
    "\n",
    "## Time Complexity : O(n)\n",
    "## Space Complexity : O(1)\n"
   ]
  },
  {
   "cell_type": "code",
   "execution_count": 3,
   "id": "5fe2c503",
   "metadata": {},
   "outputs": [],
   "source": [
    "# Optimal Solution -- Binary Search \n",
    "\n",
    "def first_bad_version(n):\n",
    "    l, h = 1, n\n",
    "    while l < h:\n",
    "        mid = l + (h - l) // 2\n",
    "        if is_bad_version(mid):\n",
    "            h = mid\n",
    "        else:\n",
    "            l = mid + 1\n",
    "    return l\n",
    "\n"
   ]
  }
 ],
 "metadata": {
  "kernelspec": {
   "display_name": "base",
   "language": "python",
   "name": "python3"
  },
  "language_info": {
   "codemirror_mode": {
    "name": "ipython",
    "version": 3
   },
   "file_extension": ".py",
   "mimetype": "text/x-python",
   "name": "python",
   "nbconvert_exporter": "python",
   "pygments_lexer": "ipython3",
   "version": "3.11.4"
  }
 },
 "nbformat": 4,
 "nbformat_minor": 5
}
