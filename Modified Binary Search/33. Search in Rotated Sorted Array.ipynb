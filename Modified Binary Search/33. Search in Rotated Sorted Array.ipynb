{
 "cells": [
  {
   "cell_type": "code",
   "execution_count": null,
   "id": "a5dffa64",
   "metadata": {},
   "outputs": [],
   "source": [
    "# https://leetcode.com/problems/search-in-rotated-sorted-array/description/\n",
    "'''Example 1:\n",
    "Input: nums = [4,5,6,7,0,1,2], target = 0\n",
    "Output: 4\n",
    "\n",
    "Example 2:\n",
    "Input: nums = [4,5,6,7,0,1,2], target = 3\n",
    "Output: -1 '''"
   ]
  },
  {
   "cell_type": "code",
   "execution_count": null,
   "id": "b9e6f6b5",
   "metadata": {},
   "outputs": [],
   "source": [
    "# Brute Force - Linear\n",
    "''' Restore the original sorted array by identifying and reversing the rotation, then apply binary search. \n",
    "However, this approach takes O(n) time to find and undo the rotation, followed by O(log n) for binary search — resulting in O(n + log n) time overall. \n",
    "Therefore, a simple linear search with O(n) time is more straightforward and equally efficient in the worst case.'''\n",
    "\n",
    "def search_brute(nums, target):\n",
    "    for i in range(len(nums)):\n",
    "        if nums[i] == target:\n",
    "            return i\n",
    "    return -1\n",
    "\n",
    "## Time Complexity : O(n)\n",
    "## Space Complexity : O(1)\n"
   ]
  },
  {
   "cell_type": "code",
   "execution_count": null,
   "id": "eb86fa9c",
   "metadata": {},
   "outputs": [],
   "source": [
    "# Better Approach - Using pivot element + Binary Search \n",
    "'''\n",
    "Step 1 : Find the pivot (the index of the smallest element).\n",
    "Step 2 : Split the array into two sorted parts.\n",
    "Step 3 : Perform binary search in the correct half. '''\n",
    "\n",
    "def search(nums, target):\n",
    "    if not nums:\n",
    "        return -1\n",
    "    \n",
    "    pivot = find_pivot(nums) \n",
    "    \n",
    "    # Decide which half to binary search in\n",
    "    if nums[pivot] <= target <= nums[-1]:\n",
    "        return binary_search(nums, pivot, len(nums)-1, target)\n",
    "    else:\n",
    "        return binary_search(nums, 0, pivot-1, target)\n",
    "\n",
    "def find_pivot(nums):\n",
    "    low, high = 0, len(nums) - 1\n",
    "    while low < high:\n",
    "        mid = (low + high) // 2\n",
    "        if nums[mid] > nums[high]:\n",
    "            low = mid + 1\n",
    "        else:\n",
    "            high = mid\n",
    "    return low  # index of the smallest element (pivot)\n",
    "\n",
    "def binary_search(nums, low, high, target):\n",
    "    while low <= high:\n",
    "        mid = (low + high) // 2\n",
    "        if nums[mid] == target:\n",
    "            return mid\n",
    "        elif nums[mid] < target:\n",
    "            low = mid + 1\n",
    "        else:\n",
    "            high = mid - 1\n",
    "    return -1\n",
    "\n",
    "## Time Complexity : O(log n) + O(log n) + O(log n) --> O(log n)\n",
    "## Space Complexity : O(1)"
   ]
  },
  {
   "cell_type": "code",
   "execution_count": 3,
   "id": "3720dd99",
   "metadata": {},
   "outputs": [],
   "source": [
    "# Optimal Solution - Using Modified Binary Search\n",
    "\n",
    "def search(nums, target):\n",
    "    low, high = 0, len(nums) - 1\n",
    "    while low <= high:\n",
    "        mid = (low + high) // 2\n",
    "        if nums[mid] == target:\n",
    "            return mid\n",
    "        \n",
    "        # Left half is sorted\n",
    "        if nums[low] <= nums[mid]:\n",
    "            if nums[low] <= target < nums[mid]:\n",
    "                high = mid - 1\n",
    "            else:\n",
    "                low = mid + 1\n",
    "                \n",
    "        # Right half is sorted\n",
    "        else:\n",
    "            if nums[mid] < target <= nums[high]:\n",
    "                low = mid + 1\n",
    "            else:\n",
    "                high = mid - 1\n",
    "    return -1\n"
   ]
  }
 ],
 "metadata": {
  "kernelspec": {
   "display_name": "base",
   "language": "python",
   "name": "python3"
  },
  "language_info": {
   "codemirror_mode": {
    "name": "ipython",
    "version": 3
   },
   "file_extension": ".py",
   "mimetype": "text/x-python",
   "name": "python",
   "nbconvert_exporter": "python",
   "pygments_lexer": "ipython3",
   "version": "3.11.4"
  }
 },
 "nbformat": 4,
 "nbformat_minor": 5
}
