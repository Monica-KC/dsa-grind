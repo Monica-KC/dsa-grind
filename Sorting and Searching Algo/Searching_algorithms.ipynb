{
 "cells": [
  {
   "cell_type": "code",
   "execution_count": 1,
   "id": "15a3597e",
   "metadata": {},
   "outputs": [],
   "source": [
    "## Linear Search  \n",
    "''' Checks each element one-by-one. \n",
    "Simple, works on unsorted arrays. '''\n",
    "\n",
    "def linear_search(nums, target):\n",
    "    for i in range(len(nums)):\n",
    "        if nums[i] == target:\n",
    "            return i\n",
    "    return -1 # if target not found\n",
    "\n",
    "## Time Complexity : O(n)\n",
    "## Space COmplexity : O(1)"
   ]
  },
  {
   "cell_type": "code",
   "execution_count": null,
   "id": "a0073b2b",
   "metadata": {},
   "outputs": [],
   "source": [
    "## Binary Search\n",
    "''' Works only on sorted arrays.\n",
    "Divide the array in half each time. '''\n",
    "\n",
    "def binary_search(nums, target):\n",
    "    low, high = 0, len(nums) - 1\n",
    "    while low <= high:\n",
    "        mid = low + (high - low) // 2\n",
    "        if nums[mid] == target:\n",
    "            return mid\n",
    "        elif nums[mid] < target:\n",
    "            low = mid + 1\n",
    "        else:\n",
    "            high = mid - 1\n",
    "    return -1\n",
    "\n",
    "## Time Complexity : O(log n)\n",
    "## Space Complexity : O(1) ---> iterative approach"
   ]
  }
 ],
 "metadata": {
  "kernelspec": {
   "display_name": "base",
   "language": "python",
   "name": "python3"
  },
  "language_info": {
   "name": "python",
   "version": "3.11.4"
  }
 },
 "nbformat": 4,
 "nbformat_minor": 5
}
