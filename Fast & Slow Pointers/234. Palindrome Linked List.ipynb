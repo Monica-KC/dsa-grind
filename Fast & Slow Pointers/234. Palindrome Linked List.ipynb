{
 "cells": [
  {
   "cell_type": "code",
   "execution_count": 10,
   "id": "9e65949b",
   "metadata": {},
   "outputs": [],
   "source": [
    "# https://leetcode.com/problems/palindrome-linked-list/description/\n",
    "''' Example 1:\n",
    "Input: head = [1,2,2,1]     Output: true\n",
    "\n",
    "Example 2:\n",
    "Input: head = [1,2]     Output: false\n",
    "'''\n",
    "class ListNode:\n",
    "    def __init__(self, val=0, next=None):\n",
    "        self.val = val\n",
    "        self.next = next\n",
    "head = [1,2,2,1]"
   ]
  },
  {
   "cell_type": "code",
   "execution_count": null,
   "id": "3c0c232e",
   "metadata": {},
   "outputs": [],
   "source": [
    "## Brute Force -- Store the values of linked list in an array, and check if array is palindrome.\n",
    "\n",
    "def isPalindrome_brute(self, head: ListNode) -> bool : \n",
    "    arr = []\n",
    "    temp = head \n",
    "    while temp:\n",
    "        arr.append(temp.val)\n",
    "        temp = temp.next\n",
    "    return arr == arr[::-1] # checks if arr and reversed arr is palindrome\n",
    "\n",
    "## Time Complexity : O(n)\n",
    "## Space Complexity : O(n)"
   ]
  },
  {
   "cell_type": "code",
   "execution_count": null,
   "id": "e2d92833",
   "metadata": {},
   "outputs": [],
   "source": [
    "## Better Approach -- Using Stack \n",
    "\n",
    "def isPalindrome_better(self, head: ListNode) -> bool : \n",
    "    slow = fast = head\n",
    "    stack = []\n",
    "    while fast and fast.next:\n",
    "        stack.append(slow.val)\n",
    "        slow = slow.next\n",
    "        fast = fast.next.next\n",
    "    \n",
    "    if fast :\n",
    "        slow = slow.next\n",
    "\n",
    "    while slow:\n",
    "        if stack.pop() != slow.val: return False\n",
    "        slow = slow.next\n",
    "    return True\n",
    "        \n",
    "## Time Complexity : O(n)\n",
    "## Space Complexity : O(n/2) ---> O(n)    "
   ]
  },
  {
   "cell_type": "code",
   "execution_count": null,
   "id": "162496db",
   "metadata": {},
   "outputs": [],
   "source": [
    "## Optimal Solution - Reverse Second Half In-Place\n",
    "\n",
    "def isPalindrome_optimal(self, head: ListNode) -> bool : \n",
    "    slow = fast = head\n",
    "\n",
    "    #Find middle\n",
    "    while fast and fast.next:\n",
    "        slow = slow.next\n",
    "        fast = fast.next.next\n",
    "\n",
    "    # Reverse second half of list \n",
    "    prev = None\n",
    "    while slow:\n",
    "        temp = slow.next\n",
    "        slow.next = prev\n",
    "        prev = slow\n",
    "        slow = temp\n",
    "    \n",
    "    # Comparing two halves of list \n",
    "    left, right = head, prev \n",
    "    while right:\n",
    "        if left.val != right.val: return False\n",
    "        left = left.next\n",
    "        right = right.next\n",
    "    return True \n",
    "\n",
    "## Time Complexity : O(n)\n",
    "## Space COmplexity : O(1)\n",
    "    "
   ]
  }
 ],
 "metadata": {
  "kernelspec": {
   "display_name": "base",
   "language": "python",
   "name": "python3"
  },
  "language_info": {
   "codemirror_mode": {
    "name": "ipython",
    "version": 3
   },
   "file_extension": ".py",
   "mimetype": "text/x-python",
   "name": "python",
   "nbconvert_exporter": "python",
   "pygments_lexer": "ipython3",
   "version": "3.11.4"
  }
 },
 "nbformat": 4,
 "nbformat_minor": 5
}
