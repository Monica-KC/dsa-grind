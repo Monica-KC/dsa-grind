{
 "cells": [
  {
   "cell_type": "code",
   "execution_count": 3,
   "id": "71e09fba",
   "metadata": {},
   "outputs": [],
   "source": [
    "# https://leetcode.com/problems/middle-of-the-linked-list/description/\n",
    "''' \n",
    "Example 1:\n",
    "Input: head = [1,2,3,4,5]       Output: [3,4,5]\n",
    "\n",
    "Example 2:\n",
    "Input: head = [1,2,3,4,5,6]        Output: [4,5,6] '''\n",
    "\n",
    "class ListNode:\n",
    "    def __init__(self, val=0, next=None):\n",
    "        self.val = val\n",
    "        self.next = next\n"
   ]
  },
  {
   "cell_type": "code",
   "execution_count": null,
   "id": "85dd1e98",
   "metadata": {
    "vscode": {
     "languageId": "markdown"
    }
   },
   "outputs": [],
   "source": [
    "## Brute Force  -- Store all nodes in list\n",
    "\n",
    "def middleNode_brute(self, head: ListNode) -> ListNode:\n",
    "    nodes = []\n",
    "    while head:\n",
    "        nodes.append(head)\n",
    "        head = head.next\n",
    "    return nodes[len(nodes) // 2]\n",
    "\n",
    "## Time Complexity : O(n)\n",
    "## Space Complexity : O(n)"
   ]
  },
  {
   "cell_type": "code",
   "execution_count": null,
   "id": "77493dc9",
   "metadata": {
    "vscode": {
     "languageId": "markdown"
    }
   },
   "outputs": [],
   "source": [
    "## Better Approach -- Count nodes and return n//2\n",
    "\n",
    "def middleNode_better(self, head: ListNode) -> ListNode:\n",
    "    cnt = 0\n",
    "    temp = head \n",
    "\n",
    "    while temp:\n",
    "        cnt += 1\n",
    "        temp = temp.next\n",
    "    \n",
    "    mid = cnt // 2\n",
    "    temp = head \n",
    "    for _ in range(mid):\n",
    "        temp = temp.next\n",
    "    return temp\n",
    "\n",
    "## Time Complexity : O(n) + O(n/2) ----> O(n)\n",
    "## Space Complexity : O(1)"
   ]
  },
  {
   "cell_type": "code",
   "execution_count": 8,
   "id": "696b3c09",
   "metadata": {
    "vscode": {
     "languageId": "markdown"
    }
   },
   "outputs": [],
   "source": [
    "## Optimal Solution -- Fast and Slow Pointers\n",
    "def middleNode_optimal(self, head: ListNode) -> ListNode:\n",
    "    slow = fast = head\n",
    "\n",
    "    while fast and fast.next:\n",
    "        slow = slow.next\n",
    "        fast = fast.next.next\n",
    "    return slow\n",
    "    \n",
    "## Time Complexity : O(n)\n",
    "## Space Complexity : O(1)"
   ]
  }
 ],
 "metadata": {
  "kernelspec": {
   "display_name": "base",
   "language": "python",
   "name": "python3"
  },
  "language_info": {
   "codemirror_mode": {
    "name": "ipython",
    "version": 3
   },
   "file_extension": ".py",
   "mimetype": "text/x-python",
   "name": "python",
   "nbconvert_exporter": "python",
   "pygments_lexer": "ipython3",
   "version": "3.11.4"
  }
 },
 "nbformat": 4,
 "nbformat_minor": 5
}
