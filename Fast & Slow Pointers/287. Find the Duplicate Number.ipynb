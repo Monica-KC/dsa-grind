{
 "cells": [
  {
   "cell_type": "code",
   "execution_count": 5,
   "id": "3da4d9c8",
   "metadata": {},
   "outputs": [],
   "source": [
    "# https://leetcode.com/problems/find-the-duplicate-number/description/\n",
    "''' \n",
    "Example 1:\n",
    "Input: nums = [1,3,4,2,2]   Output: 2\n",
    "\n",
    "Example 2:\n",
    "Input: nums = [3,1,3,4,2]   Output: 3\n",
    "\n",
    "Example 3:\n",
    "Input: nums = [3,3,3,3,3]   Output: 3'''\n",
    "\n",
    "nums = [3,1,3,4,2]"
   ]
  },
  {
   "cell_type": "code",
   "execution_count": 6,
   "id": "00cc5f9c",
   "metadata": {},
   "outputs": [
    {
     "name": "stdout",
     "output_type": "stream",
     "text": [
      "3\n"
     ]
    }
   ],
   "source": [
    "## Brute Force -- 2 for loops \n",
    "\n",
    "def findDuplicate_brute(nums):\n",
    "    for i in range(len(nums)):\n",
    "        for j in range(i + 1, len(nums)):\n",
    "            if nums[i] == nums[j]:\n",
    "                return nums[i]\n",
    "print(findDuplicate_brute(nums))\n",
    "\n",
    "## Time Complexity : O(n^2)\n",
    "## Space Complexity : O(1)"
   ]
  },
  {
   "cell_type": "code",
   "execution_count": null,
   "id": "b520916b",
   "metadata": {},
   "outputs": [
    {
     "name": "stdout",
     "output_type": "stream",
     "text": [
      "3\n"
     ]
    }
   ],
   "source": [
    "## Better -- Using Hashmap, HashSet . used set \n",
    "\n",
    "def findDuplicate_better1(nums):\n",
    "    seen = set()\n",
    "    for num in nums:\n",
    "        if num in seen:\n",
    "            return num\n",
    "        seen.add(num)\n",
    "print(findDuplicate_better1(nums))\n",
    "\n",
    "## Time Complexity : O(n)\n",
    "## Space Complexity : O(n)"
   ]
  },
  {
   "cell_type": "code",
   "execution_count": 8,
   "id": "3a9a215f",
   "metadata": {},
   "outputs": [
    {
     "name": "stdout",
     "output_type": "stream",
     "text": [
      "3\n"
     ]
    }
   ],
   "source": [
    "## Better - Binary Search on Value Range + Count\n",
    "\n",
    "def findDuplicate_better2(nums):\n",
    "    low = 1\n",
    "    high = len(nums) - 1  \n",
    "\n",
    "    while low < high:\n",
    "        mid = (low + high) // 2\n",
    "        count = sum(num <= mid for num in nums)\n",
    "\n",
    "        if count > mid:\n",
    "            high = mid  # Duplicate is in the left half\n",
    "        else:\n",
    "            low = mid + 1  # Duplicate is in the right half\n",
    "\n",
    "    return low\n",
    "print(findDuplicate_better2(nums))\n",
    "\n",
    "## Time Complexity : O(n log n)\n",
    "## Space Complexity : O(1)"
   ]
  },
  {
   "cell_type": "code",
   "execution_count": 12,
   "id": "3003f4fa",
   "metadata": {},
   "outputs": [
    {
     "name": "stdout",
     "output_type": "stream",
     "text": [
      "3\n"
     ]
    }
   ],
   "source": [
    "## Optimal Solution -- Fast and Slow Pointers Approach \n",
    "\n",
    "def findDuplicate_optimal(nums):\n",
    "    slow = fast = nums[0]\n",
    "    while True:\n",
    "        slow = nums[slow]\n",
    "        fast = nums[nums[fast]]\n",
    "        if slow == fast: break\n",
    "    \n",
    "    fast = nums[0]\n",
    "    while slow != fast:\n",
    "        slow = nums[slow]\n",
    "        fast = nums[fast]\n",
    "    return slow\n",
    "print(findDuplicate_optimal(nums))\n",
    "\n",
    "## Time Complexity : O(n)\n",
    "## Space Complexity : O(1)"
   ]
  }
 ],
 "metadata": {
  "kernelspec": {
   "display_name": "base",
   "language": "python",
   "name": "python3"
  },
  "language_info": {
   "codemirror_mode": {
    "name": "ipython",
    "version": 3
   },
   "file_extension": ".py",
   "mimetype": "text/x-python",
   "name": "python",
   "nbconvert_exporter": "python",
   "pygments_lexer": "ipython3",
   "version": "3.11.4"
  }
 },
 "nbformat": 4,
 "nbformat_minor": 5
}
