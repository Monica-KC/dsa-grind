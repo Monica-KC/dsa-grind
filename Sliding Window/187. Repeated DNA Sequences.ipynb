{
 "cells": [
  {
   "cell_type": "code",
   "execution_count": 4,
   "id": "747b3c1b",
   "metadata": {},
   "outputs": [],
   "source": [
    "# https://leetcode.com/problems/repeated-dna-sequences/description/\n",
    "''' \n",
    "Example 1:\n",
    "Input: s = \"AAAAACCCCCAAAAACCCCCCAAAAAGGGTTT\"       Output: [\"AAAAACCCCC\",\"CCCCCAAAAA\"]\n",
    "\n",
    "Example 2:\n",
    "Input: s = \"AAAAAAAAAAAAA\"      Output: [\"AAAAAAAAAA\"]\n",
    "'''\n",
    "s = \"AAAAACCCCCAAAAACCCCCCAAAAAGGGTTT\"  "
   ]
  },
  {
   "cell_type": "code",
   "execution_count": null,
   "id": "93f0c6d0",
   "metadata": {},
   "outputs": [
    {
     "name": "stdout",
     "output_type": "stream",
     "text": [
      "['AAAAACCCCC', 'CCCCCAAAAA']\n"
     ]
    }
   ],
   "source": [
    "## Brute force --- check every substring of length 10, count their occurances using dict.\n",
    "\n",
    "from typing import List\n",
    "from collections import defaultdict\n",
    "\n",
    "def findRepeatedDnaSequences_brute(s: str) -> List[str]:\n",
    "    count = defaultdict(int)\n",
    "    res = []\n",
    "\n",
    "    for i in range(len(s)-9):\n",
    "        window = s[i:i+10]\n",
    "        count[window] += 1\n",
    "    for key, val in count.items():\n",
    "        if val> 1: res.append(key)\n",
    "    return res\n",
    "print(findRepeatedDnaSequences_brute(s))\n",
    "\n",
    "## Time Complexity : O(n*10) = O(n)\n",
    "## Space Comlexity : O(n)\n"
   ]
  },
  {
   "cell_type": "code",
   "execution_count": 10,
   "id": "15a36c03",
   "metadata": {},
   "outputs": [
    {
     "name": "stdout",
     "output_type": "stream",
     "text": [
      "['AAAAACCCCC', 'CCCCCAAAAA']\n"
     ]
    }
   ],
   "source": [
    "## Better Approach --- use set instead of count frequencies \n",
    "\n",
    "def findRepeatedDnaSequences_better(s: str) -> List[str]:\n",
    "    seen = set()\n",
    "    repeated = set()\n",
    "\n",
    "       \n",
    "    for i in range(len(s)-9):\n",
    "        window = s[i:i+10]\n",
    "        if window in seen:\n",
    "            repeated.add(window) \n",
    "        else :  seen.add(window)\n",
    "    return list(repeated)\n",
    "print(findRepeatedDnaSequences_better(s))\n",
    "\n",
    "## Time Complexity : O(n) takes only 1 pass\n",
    "## Space Comlexity : O(n)\n"
   ]
  },
  {
   "cell_type": "code",
   "execution_count": 12,
   "id": "c53ab59d",
   "metadata": {},
   "outputs": [
    {
     "name": "stdout",
     "output_type": "stream",
     "text": [
      "['AAAAACCCCC', 'CCCCCAAAAA']\n"
     ]
    }
   ],
   "source": [
    "## Optimal Solution --- Use rolling hash to encode substrings in O(1) time:\n",
    "''' Since DNA characters are limited to 'A', 'C', 'G', 'T', encode them as 2-bit numbers.\n",
    "Use bit manipulation to slide the window in constant time. '''\n",
    "\n",
    "def findRepeatedDnaSequences_optimal(s: str):\n",
    "    if len(s) < 10:\n",
    "        return []\n",
    "\n",
    "    char_map = {'A': 0, 'C': 1, 'G': 2, 'T': 3}\n",
    "    seen, repeated = set(), set()\n",
    "    hash_val = 0\n",
    "\n",
    "    for i in range(10):\n",
    "        hash_val = (hash_val << 2) | char_map[s[i]]\n",
    "    seen.add(hash_val)\n",
    "\n",
    "    mask = (1 << 20) - 1  # Only keep last 20 bits (10 characters * 2 bits)\n",
    "\n",
    "    for i in range(10, len(s)):\n",
    "        hash_val = ((hash_val << 2) | char_map[s[i]]) & mask\n",
    "        if hash_val in seen:\n",
    "            repeated.add(s[i-9:i+1])\n",
    "        else:\n",
    "            seen.add(hash_val)\n",
    "\n",
    "    return list(repeated)\n",
    "print(findRepeatedDnaSequences_optimal(s))\n",
    "\n",
    "## Time Complexity : O(n)\n",
    "## Space Complexity : O(n)"
   ]
  },
  {
   "cell_type": "code",
   "execution_count": null,
   "id": "a9179689",
   "metadata": {},
   "outputs": [],
   "source": []
  }
 ],
 "metadata": {
  "kernelspec": {
   "display_name": "base",
   "language": "python",
   "name": "python3"
  },
  "language_info": {
   "codemirror_mode": {
    "name": "ipython",
    "version": 3
   },
   "file_extension": ".py",
   "mimetype": "text/x-python",
   "name": "python",
   "nbconvert_exporter": "python",
   "pygments_lexer": "ipython3",
   "version": "3.11.4"
  }
 },
 "nbformat": 4,
 "nbformat_minor": 5
}
