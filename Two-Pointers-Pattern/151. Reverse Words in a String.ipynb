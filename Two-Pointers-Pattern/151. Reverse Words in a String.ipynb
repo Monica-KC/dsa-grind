{
 "cells": [
  {
   "cell_type": "code",
   "execution_count": 1,
   "id": "89c48368",
   "metadata": {},
   "outputs": [],
   "source": [
    "#  https://leetcode.com/problems/reverse-words-in-a-string/description/\n",
    "#Brute \n",
    "\n",
    "def reverseWords(self, s: str) -> str:\n",
    "    s=s.strip() # to remove leading and trialing spaces\n",
    "    s=s.split() # to split the str using white space as delimiter\n",
    "    reveresed=s[::-1]\n",
    "    return ''.join(reveresed)\n",
    "\n",
    "## TC: O(N) and SC: O(N), N is length of s"
   ]
  },
  {
   "cell_type": "code",
   "execution_count": 4,
   "id": "b63ea23c",
   "metadata": {},
   "outputs": [],
   "source": [
    "#Optimal --> Two pointers approach \n",
    "\n",
    "def reverseWords(self, s: str) -> str:\n",
    "    s=s.split()\n",
    "    l,r=0,len(s)-1\n",
    "    \n",
    "    while l<=r:\n",
    "        s[l],s[r]=s[r],s[l]\n",
    "        l+=1;r-=1\n",
    "    return ''.join(s)\n",
    "\n",
    "## TC: O(N) and SC: O(1), N is length of s"
   ]
  },
  {
   "cell_type": "code",
   "execution_count": null,
   "id": "94757541",
   "metadata": {},
   "outputs": [],
   "source": []
  }
 ],
 "metadata": {
  "kernelspec": {
   "display_name": "Python 3 (ipykernel)",
   "language": "python",
   "name": "python3"
  },
  "language_info": {
   "codemirror_mode": {
    "name": "ipython",
    "version": 3
   },
   "file_extension": ".py",
   "mimetype": "text/x-python",
   "name": "python",
   "nbconvert_exporter": "python",
   "pygments_lexer": "ipython3",
   "version": "3.11.4"
  }
 },
 "nbformat": 4,
 "nbformat_minor": 5
}
