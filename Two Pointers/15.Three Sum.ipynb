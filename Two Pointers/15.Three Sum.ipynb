{
 "cells": [
  {
   "cell_type": "code",
   "execution_count": 1,
   "id": "28398817",
   "metadata": {},
   "outputs": [],
   "source": [
    "# https://leetcode.com/problems/3sum/description/\n",
    "# Input: nums = [-1,0,1,2,-1,-4]\n",
    "# Output: [[-1,-1,2],[-1,0,1]]"
   ]
  },
  {
   "cell_type": "code",
   "execution_count": null,
   "id": "baf5d6dd",
   "metadata": {
    "vscode": {
     "languageId": "markdown"
    }
   },
   "outputs": [
    {
     "name": "stdout",
     "output_type": "stream",
     "text": [
      "[(-1, 0, 1), (-1, -1, 2)]\n"
     ]
    }
   ],
   "source": [
    "## Brute Force - use 3 for loops\n",
    "def threeSum_brute(nums):\n",
    "    res = set()\n",
    "    n = len(nums)\n",
    "    for i in range(n):\n",
    "        for j in range(i+1, n):\n",
    "            for k in range(j+1, n):\n",
    "                if nums[i] + nums[j] + nums[k] == 0:\n",
    "                    grp = tuple(sorted([nums[i], nums[j], nums[k]]))\n",
    "                    res.add(grp)\n",
    "    return list(res)\n",
    "\n",
    "# Test Case\n",
    "nums = [-1, 0, 1, 2, -1, -4]\n",
    "print(threeSum_brute(nums))\n",
    "\n",
    "## Time Complexity : O(n^3)\n",
    "## Space Complexity : O(n) ---> for storage of result "
   ]
  },
  {
   "cell_type": "code",
   "execution_count": null,
   "id": "41e0ab2f",
   "metadata": {
    "vscode": {
     "languageId": "markdown"
    }
   },
   "outputs": [
    {
     "name": "stdout",
     "output_type": "stream",
     "text": [
      "[(-1, 2, -1), (-1, 1, 0)]\n"
     ]
    }
   ],
   "source": [
    "## Better : Using HashSet \n",
    "def threeSum_better(nums):\n",
    "    nums.sort()\n",
    "    n = len(nums)\n",
    "    res = set()\n",
    "    \n",
    "    for i in range(n):\n",
    "        seen=set()\n",
    "        for j in range(i+1, n):\n",
    "            target = - nums[i] - nums[j]\n",
    "            if target in seen:\n",
    "                res.add((nums[i],nums[j],target))\n",
    "            seen.add(nums[j])\n",
    "    return list(res)\n",
    "\n",
    "# Test Case\n",
    "nums = [-1, 0, 1, 2, -1, -4]\n",
    "print(threeSum_better(nums))\n",
    "\n",
    "## Time complexity : O(n^2)\n",
    "## Space complexity : O(n) ---> to store unique elements in set"
   ]
  },
  {
   "cell_type": "code",
   "execution_count": null,
   "id": "b2a672d4",
   "metadata": {
    "vscode": {
     "languageId": "markdown"
    }
   },
   "outputs": [
    {
     "name": "stdout",
     "output_type": "stream",
     "text": [
      "[[-1, -1, 2], [-1, 0, 1]]\n"
     ]
    }
   ],
   "source": [
    "# Optimal Solution ---> Two Pointers\n",
    "def threeSum_optimal(nums):\n",
    "    nums.sort()\n",
    "    n = len(nums)\n",
    "    res = []\n",
    "\n",
    "    for i in range(n):\n",
    "            if nums[i] > 0 : break\n",
    "            if i > 0 and nums[i] == nums[i-1]: continue # to skip duplicates\n",
    "            l, r = i+1, n - 1\n",
    "\n",
    "            while l < r:\n",
    "                sum = nums[i] + nums[l] + nums[r]\n",
    "                if sum < 0: l += 1\n",
    "                elif sum > 0: r -= 1\n",
    "                else :\n",
    "                    res.append([nums[i], nums[l], nums[r]])\n",
    "                    l += 1\n",
    "                    r -= 1\n",
    "                    while nums[l] == nums[l-1] and l < r: l += 1 \n",
    "                    while nums[r] == nums[r+1] and l < r: r -= 1\n",
    "    return res\n",
    "\n",
    "# Test Case\n",
    "nums = [-1, 0, 1, 2, -1, -4]\n",
    "print(threeSum_optimal(nums))\n",
    "\n",
    "## Time complexity : O(n log n) + O(n) * O(n) ---> O(n^2)\n",
    "## Space complexity : O(k) ---> to store triplets "
   ]
  }
 ],
 "metadata": {
  "kernelspec": {
   "display_name": "base",
   "language": "python",
   "name": "python3"
  },
  "language_info": {
   "codemirror_mode": {
    "name": "ipython",
    "version": 3
   },
   "file_extension": ".py",
   "mimetype": "text/x-python",
   "name": "python",
   "nbconvert_exporter": "python",
   "pygments_lexer": "ipython3",
   "version": "3.11.4"
  }
 },
 "nbformat": 4,
 "nbformat_minor": 5
}
