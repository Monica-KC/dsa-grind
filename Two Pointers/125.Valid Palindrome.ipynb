{
 "cells": [
  {
   "cell_type": "code",
   "execution_count": 13,
   "id": "b5320b99",
   "metadata": {},
   "outputs": [],
   "source": [
    "## https://leetcode.com/problems/valid-palindrome/description/\n",
    "'''\n",
    "Example 1:\n",
    "Input: s = \"A man, a plan, a canal: Panama\"     Output: true\n",
    "Explanation: \"amanaplanacanalpanama\" is a palindrome.\n",
    "\n",
    "Example 2:\n",
    "Input: s = \"race a car\"     Output: false\n",
    "Explanation: \"raceacar\" is not a palindrome.  '''\n",
    "s = \"A man, a plan, a canal: Panama\" "
   ]
  },
  {
   "cell_type": "code",
   "execution_count": null,
   "id": "8dec52f7",
   "metadata": {},
   "outputs": [
    {
     "name": "stdout",
     "output_type": "stream",
     "text": [
      "True\n"
     ]
    }
   ],
   "source": [
    "## Brute Force -- creation of strig that contains only alphanumeric. \n",
    "\n",
    "def isPalindrome_brute(s: str) -> bool:\n",
    "        cleaned = \"\"\n",
    "        for c in s:\n",
    "            if c.isalnum():\n",
    "                cleaned += c.lower()\n",
    "        return cleaned == cleaned[::-1]\n",
    "print(isPalindrome_brute(s))\n",
    "\n",
    "## Time Complexity : O(n ^ 2) : O(n) for traversal + O(n) for reverse → O(n)\n",
    "## But string concatenation (+=) inside loop is O(n ^ 2) in worst case\n",
    "## Space Complexity : O(n) for the cleaned string"
   ]
  },
  {
   "cell_type": "code",
   "execution_count": 15,
   "id": "9a1e29ef",
   "metadata": {
    "vscode": {
     "languageId": "markdown"
    }
   },
   "outputs": [
    {
     "name": "stdout",
     "output_type": "stream",
     "text": [
      "True\n"
     ]
    }
   ],
   "source": [
    "## Better Approach -- Use a list to avoid string concatenation cost.\n",
    "\n",
    "def isPalindrome_better(s: str) -> bool:\n",
    "    cleaned = ''.join(c.lower() for c in s if c.isalnum() )\n",
    "    return cleaned == cleaned[::-1]\n",
    "print(isPalindrome_better(s) )\n",
    "\n",
    "## Time Complexity : O(n)\n",
    "## Space Complexity : O(n) -- for list of cleaned characters"
   ]
  },
  {
   "cell_type": "code",
   "execution_count": 16,
   "id": "ded5e127",
   "metadata": {
    "vscode": {
     "languageId": "markdown"
    }
   },
   "outputs": [
    {
     "name": "stdout",
     "output_type": "stream",
     "text": [
      "True\n"
     ]
    }
   ],
   "source": [
    "## Optimal Solution -- Two Pointers \n",
    "\n",
    "def isPalindrome_optimal(s: str) -> bool:\n",
    "    left, right = 0, len(s) - 1 \n",
    "\n",
    "    while left <= right :\n",
    "        while left <= right and not s[left].isalnum(): left += 1\n",
    "        while left <= right and not s[right].isalnum(): right -= 1\n",
    "        if s[left].lower() != s[right].lower(): return False\n",
    "        left += 1\n",
    "        right -= 1\n",
    "    return True \n",
    "print(isPalindrome_optimal(s))\n",
    "\n",
    "## Time Complexity : O(n)\n",
    "## Space Complexity : O(1) (in-place comparison)"
   ]
  }
 ],
 "metadata": {
  "kernelspec": {
   "display_name": "base",
   "language": "python",
   "name": "python3"
  },
  "language_info": {
   "codemirror_mode": {
    "name": "ipython",
    "version": 3
   },
   "file_extension": ".py",
   "mimetype": "text/x-python",
   "name": "python",
   "nbconvert_exporter": "python",
   "pygments_lexer": "ipython3",
   "version": "3.11.4"
  }
 },
 "nbformat": 4,
 "nbformat_minor": 5
}
