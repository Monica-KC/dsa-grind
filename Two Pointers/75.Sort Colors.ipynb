{
 "cells": [
  {
   "cell_type": "code",
   "execution_count": 11,
   "id": "f8ecc7d0",
   "metadata": {},
   "outputs": [],
   "source": [
    "# https://leetcode.com/problems/sort-colors/description/\n",
    "# Input: nums = [2,0,2,1,1,0]\n",
    "# Output: [0,0,1,1,2,2]"
   ]
  },
  {
   "cell_type": "code",
   "execution_count": null,
   "id": "3ea1cab5",
   "metadata": {},
   "outputs": [],
   "source": [
    "##Brute Force - using .count() or use in-built function .sort()\n",
    "def sortColors_brute(nums):\n",
    "    result = []\n",
    "    for i in range(3):\n",
    "        result.extend([i] * nums.count(i))\n",
    "    \n",
    "    for i in range(len(nums)):\n",
    "        nums[i] = result[i]\n",
    "## Time Complexity : O(n²) ---> .count(i) takes O(n) times and runs thrice inside the loop\n",
    "## Space Complexity : O(n)"
   ]
  },
  {
   "cell_type": "code",
   "execution_count": null,
   "id": "ef3f5112",
   "metadata": {},
   "outputs": [],
   "source": [
    "## Better Approach - Count and overwrite the array \n",
    "def sortColors_better(nums):\n",
    "    count = [0, 0, 0]\n",
    "    for num in nums:\n",
    "        count[num] += 1\n",
    "\n",
    "    index = 0\n",
    "    for i in range(3):\n",
    "        for _ in range(count[i]):\n",
    "            nums[index] = i\n",
    "            index += 1\n",
    "\n",
    "## Time Complexity : O(n) \n",
    "## Space Complexity : O(1) ---> only 3 counters"
   ]
  },
  {
   "cell_type": "code",
   "execution_count": null,
   "id": "bf905b40",
   "metadata": {},
   "outputs": [],
   "source": [
    "## Optimal Solution - Dutch National Flag Algorithm\n",
    "def sortColors_optimal(nums):\n",
    "    low = mid = 0\n",
    "    high =len(nums)-1\n",
    "\n",
    "    while mid <= high:\n",
    "        if nums[mid] == 0: \n",
    "            nums[low], nums[mid] = nums[mid], nums[low]\n",
    "            low += 1\n",
    "            mid += 1 \n",
    "        elif nums[mid] ==1: \n",
    "            mid += 1\n",
    "        else: \n",
    "            nums[mid], nums[high] = nums[high], nums[mid]\n",
    "            high -= 1\n",
    "\n",
    "## Time Complexity : O(n)\n",
    "## Space Complexity : O(1)"
   ]
  }
 ],
 "metadata": {
  "kernelspec": {
   "display_name": "base",
   "language": "python",
   "name": "python3"
  },
  "language_info": {
   "codemirror_mode": {
    "name": "ipython",
    "version": 3
   },
   "file_extension": ".py",
   "mimetype": "text/x-python",
   "name": "python",
   "nbconvert_exporter": "python",
   "pygments_lexer": "ipython3",
   "version": "3.11.4"
  }
 },
 "nbformat": 4,
 "nbformat_minor": 5
}
